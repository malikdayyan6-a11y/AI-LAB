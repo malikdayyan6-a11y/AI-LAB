{
 "cells": [
  {
   "cell_type": "code",
   "execution_count": 1,
   "id": "8eed3f5a",
   "metadata": {},
   "outputs": [
    {
     "name": "stdout",
     "output_type": "stream",
     "text": [
      "Expected Result: 4\n"
     ]
    }
   ],
   "source": [
    "strings = ['abc', 'xyz', 'aba', '1221', 'xyzzyx', 'aa', '122']\n",
    "count = 0\n",
    "for s in strings:\n",
    "    if len(s) >= 2 and s[0] == s[-1]:\n",
    "        count += 1\n",
    "print(\"Expected Result:\", count)"
   ]
  },
  {
   "cell_type": "code",
   "execution_count": 2,
   "id": "e782e254",
   "metadata": {},
   "outputs": [
    {
     "name": "stdout",
     "output_type": "stream",
     "text": [
      "Sum is: 15\n",
      "Product is: 96\n"
     ]
    }
   ],
   "source": [
    "numbers = (1, 2, 4, 2, 6)\n",
    "total_sum = sum(numbers)\n",
    "product = 1\n",
    "for num in numbers:\n",
    "    product *= num\n",
    "print(\"Sum is:\", total_sum)\n",
    "print(\"Product is:\", product)"
   ]
  },
  {
   "cell_type": "code",
   "execution_count": null,
   "id": "8f712fb4",
   "metadata": {},
   "outputs": [
    {
     "name": "stdout",
     "output_type": "stream",
     "text": [
      "Largest number: 6\n"
     ]
    }
   ],
   "source": [
    "numbers = (1, 2, 4, 2, 6)\n",
    "largest = max(numbers)\n",
    "print(\"Largest number:\", largest)"
   ]
  },
  {
   "cell_type": "code",
   "execution_count": null,
   "id": "7cdd359b",
   "metadata": {},
   "outputs": [
    {
     "name": "stdout",
     "output_type": "stream",
     "text": [
      "Result: [('',), ('a', 'b'), ('a', 'b', 'c'), 'd']\n"
     ]
    }
   ],
   "source": [
    "L = [(), (), ('',), ('a', 'b'), (), ('a', 'b', 'c'), (), ('d')]\n",
    "result = []\n",
    "for tup in L:\n",
    "    if tup:\n",
    "        result.append(tup)\n",
    "print(\"Result:\", result)"
   ]
  },
  {
   "cell_type": "code",
   "execution_count": 2,
   "id": "80e01529",
   "metadata": {},
   "outputs": [
    {
     "name": "stdout",
     "output_type": "stream",
     "text": [
      "Output: {'1': 1, '2': 4, '3': 9}\n"
     ]
    }
   ],
   "source": [
    "n = int(input(\"Input a number: \"))\n",
    "square_dict = {str(x): x*x for x in range(1, n+1)}\n",
    "print(\"Output:\", square_dict)"
   ]
  },
  {
   "cell_type": "code",
   "execution_count": 7,
   "id": "2d308028",
   "metadata": {},
   "outputs": [
    {
     "name": "stdout",
     "output_type": "stream",
     "text": [
      "One Two Three Four Five Six\n"
     ]
    }
   ],
   "source": [
    "digits = {\n",
    "    '0': 'Zero',\n",
    "    '1': 'One',\n",
    "    '2': 'Two',\n",
    "    '3': 'Three',\n",
    "    '4': 'Four',\n",
    "    '5': 'Five',\n",
    "    '6': 'Six',\n",
    "    '7': 'Seven',\n",
    "    '8': 'Eight',\n",
    "    '9': 'Nine'\n",
    "}\n",
    "num = input(\"Enter a number: \")\n",
    "words = [digits[d] for d in num]\n",
    "print(\" \".join(words))"
   ]
  }
 ],
 "metadata": {
  "kernelspec": {
   "display_name": "Python 3",
   "language": "python",
   "name": "python3"
  },
  "language_info": {
   "codemirror_mode": {
    "name": "ipython",
    "version": 3
   },
   "file_extension": ".py",
   "mimetype": "text/x-python",
   "name": "python",
   "nbconvert_exporter": "python",
   "pygments_lexer": "ipython3",
   "version": "3.13.7"
  }
 },
 "nbformat": 4,
 "nbformat_minor": 5
}
