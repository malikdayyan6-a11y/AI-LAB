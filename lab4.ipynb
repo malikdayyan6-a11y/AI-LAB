{
 "cells": [
  {
   "cell_type": "code",
   "execution_count": 2,
   "id": "e90b696d",
   "metadata": {},
   "outputs": [
    {
     "name": "stdout",
     "output_type": "stream",
     "text": [
      "Area of Circle is: 78.53981633974483\n",
      "Perimeter of Circle is: 31.41592653589793\n"
     ]
    }
   ],
   "source": [
    "import math\n",
    "\n",
    "class Circle:\n",
    "    def __init__(self, radius):\n",
    "        self.radius = radius\n",
    "    def area(self):\n",
    "        return math.pi * self.radius ** 2\n",
    "    def perimeter(self):\n",
    "        return 2 * math.pi * self.radius\n",
    "c = Circle(5)\n",
    "print(\"Area of Circle is:\", c.area())\n",
    "print(\"Perimeter of Circle is:\", c.perimeter())"
   ]
  },
  {
   "cell_type": "code",
   "execution_count": 6,
   "id": "e1e4df9a",
   "metadata": {},
   "outputs": [
    {
     "name": "stdout",
     "output_type": "stream",
     "text": [
      "2^6 = 64\n",
      "3^5 = 243\n",
      "(3)^7 = 2187\n"
     ]
    }
   ],
   "source": [
    "class Power:\n",
    "    def pow(self, x, n):\n",
    "        if n == 0:\n",
    "            return 1\n",
    "        elif n > 0:\n",
    "            result = 1\n",
    "            for i in range(n):\n",
    "                result *= x\n",
    "            return result\n",
    "        else:\n",
    "            result = 1\n",
    "            for i in range(-n):\n",
    "                result *= x\n",
    "            return 1 / result\n",
    "\n",
    "p = Power()\n",
    "print(\"2^6 =\", p.pow(2,6))\n",
    "print(\"3^5 =\", p.pow(3, 5))\n",
    "print(\"(3)^7 =\", p.pow(3,7))\n"
   ]
  },
  {
   "cell_type": "code",
   "execution_count": 12,
   "id": "f9a89dd1",
   "metadata": {},
   "outputs": [
    {
     "name": "stdout",
     "output_type": "stream",
     "text": [
      "Name: gucci\n",
      "Description: new development\n",
      "Price: $59\n",
      "Playing MP3 'gucci' by chris jordan.\n",
      "Viewing trailer of 'Inception' featuring sanny Arif, Alian ahmad.\n",
      "Previewing book 'nelson' by harris curfim.\n"
     ]
    }
   ],
   "source": [
    "class Item:\n",
    "    def __init__(self, name, description, price):\n",
    "        self.name = name\n",
    "        self.description = description\n",
    "        self.price = price\n",
    "\n",
    "    def viewFullDescription(self):\n",
    "        print(f\"Name: {self.name}\")\n",
    "        print(f\"Description: {self.description}\")\n",
    "        print(f\"Price: ${self.price}\")\n",
    "\n",
    "    def addToShoppingBasket(self):\n",
    "        print(f\"{self.name} added to shopping basket.\")\n",
    "\n",
    "    def removeFromShoppingBasket(self):\n",
    "        print(f\"{self.name} removed from shopping basket.\")\n",
    "\n",
    "\n",
    "class MP3(Item):\n",
    "    def __init__(self, name, description, price, artist, duration):\n",
    "        super().__init__(name, description, price)\n",
    "        self.artist = artist\n",
    "        self.duration = duration\n",
    "\n",
    "    def play(self):\n",
    "        print(f\"Playing MP3 '{self.name}' by {self.artist}.\")\n",
    "\n",
    "    def download(self):\n",
    "        print(f\"Downloading MP3 '{self.name}'.\")\n",
    "\n",
    "\n",
    "class DVD(Item):\n",
    "    def __init__(self, name, description, price, certificate, duration, actors):\n",
    "        super().__init__(name, description, price)\n",
    "        self.certificate = certificate\n",
    "        self.duration = duration\n",
    "        self.actors = actors\n",
    "\n",
    "    def viewTrailer(self):\n",
    "        print(f\"Viewing trailer of '{self.name}' featuring {', '.join(self.actors)}.\")\n",
    "\n",
    "\n",
    "class Book(Item):\n",
    "    def __init__(self, name, description, price, author, numberOfPages, genre):\n",
    "        super().__init__(name, description, price)\n",
    "        self.author = author\n",
    "        self.numberOfPages = numberOfPages\n",
    "        self.genre = genre\n",
    "\n",
    "    def previewContent(self):\n",
    "        print(f\"Previewing book '{self.name}' by {self.author}.\")\n",
    "\n",
    "\n",
    "mp3 = MP3(\"gucci\", \"new development\", 59, \"chris jordan\", \"5:00\")\n",
    "dvd = DVD(\"Inception\", \"Sci-Fi Movie\", 14.99, \"PG-13\", \"2h 28m\", [\"sanny Arif\", \"Alian ahmad\"])\n",
    "book = Book(\"nelson\", \"Fantasy Novel\", 9.99, \"harris curfim\", 500, \"Fantasy\")\n",
    "\n",
    "mp3.viewFullDescription()\n",
    "mp3.play()\n",
    "dvd.viewTrailer()\n",
    "book.previewContent()\n"
   ]
  },
  {
   "cell_type": "code",
   "execution_count": 14,
   "id": "ddd30f01",
   "metadata": {},
   "outputs": [
    {
     "name": "stdout",
     "output_type": "stream",
     "text": [
      "Employee Details:\n",
      "Name: Dayyan\n",
      "Age: 24\n",
      "Designation: cyber expert\n",
      "Salary: $25000\n"
     ]
    }
   ],
   "source": [
    "class Person:\n",
    "    def __init__(self, name, age):\n",
    "        self.name = name\n",
    "        self.age = age\n",
    "class Job:\n",
    "    def __init__(self, designation, salary):\n",
    "        self.designation = designation\n",
    "        self.salary = salary\n",
    "class Employee(Person, Job):\n",
    "    def __init__(self, name, age, designation, salary):\n",
    "        Person.__init__(self, name, age)\n",
    "        Job.__init__(self, designation, salary)\n",
    "\n",
    "    def displayDetails(self):\n",
    "        print(\"Employee Details:\")\n",
    "        print(f\"Name: {self.name}\")\n",
    "        print(f\"Age: {self.age}\")\n",
    "        print(f\"Designation: {self.designation}\")\n",
    "        print(f\"Salary: ${self.salary}\")\n",
    "\n",
    "\n",
    "emp1 = Employee(\"Dayyan\", 24, \"cyber expert\", 25000)\n",
    "emp1.displayDetails()"
   ]
  }
 ],
 "metadata": {
  "kernelspec": {
   "display_name": "Python 3",
   "language": "python",
   "name": "python3"
  },
  "language_info": {
   "codemirror_mode": {
    "name": "ipython",
    "version": 3
   },
   "file_extension": ".py",
   "mimetype": "text/x-python",
   "name": "python",
   "nbconvert_exporter": "python",
   "pygments_lexer": "ipython3",
   "version": "3.13.7"
  }
 },
 "nbformat": 4,
 "nbformat_minor": 5
}
