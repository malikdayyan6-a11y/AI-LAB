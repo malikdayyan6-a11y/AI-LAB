{
 "cells": [
  {
   "cell_type": "code",
   "execution_count": 1,
   "id": "1661fccc",
   "metadata": {},
   "outputs": [
    {
     "name": "stdout",
     "output_type": "stream",
     "text": [
      "\n",
      "Multiplication Table of 4:\n",
      "4 × 1 = 4\n",
      "4 × 2 = 8\n",
      "4 × 3 = 12\n",
      "4 × 4 = 16\n",
      "4 × 5 = 20\n",
      "4 × 6 = 24\n",
      "4 × 7 = 28\n",
      "4 × 8 = 32\n",
      "4 × 9 = 36\n",
      "4 × 10 = 40\n"
     ]
    }
   ],
   "source": [
    "num = int(input(\"Enter a number: \"))\n",
    "print(f\"\\nMultiplication Table of {num}:\")\n",
    "for i in range(1, 11):\n",
    "    print(f\"{num} × {i} = {num * i}\")"
   ]
  },
  {
   "cell_type": "code",
   "execution_count": 2,
   "id": "cd895a25",
   "metadata": {},
   "outputs": [
    {
     "name": "stdout",
     "output_type": "stream",
     "text": [
      "2 is a prime number.\n"
     ]
    }
   ],
   "source": [
    "num = int(input(\"Enter number: \"))\n",
    "if num > 1:\n",
    "    for i in range(2, num):\n",
    "        if num % i == 0:\n",
    "            print(f\"{num} is not prime number.\")\n",
    "            break\n",
    "    else:\n",
    "        print(f\"{num} is prime number.\")\n",
    "else:\n",
    "    print(f\"{num} is not prime number.\")"
   ]
  },
  {
   "cell_type": "code",
   "execution_count": 3,
   "id": "60cbef28",
   "metadata": {},
   "outputs": [
    {
     "name": "stdout",
     "output_type": "stream",
     "text": [
      "Numbers from 1 to 10:\n",
      "1\n",
      "2\n",
      "3\n",
      "4\n",
      "5\n",
      "6\n",
      "7\n",
      "8\n",
      "9\n",
      "10\n",
      "\n",
      "Even numbers from 1 to 20:\n",
      "2\n",
      "4\n",
      "6\n",
      "8\n",
      "10\n",
      "12\n",
      "14\n",
      "16\n",
      "18\n",
      "20\n"
     ]
    }
   ],
   "source": [
    "print(\"Numbers from 1 to 10:\")\n",
    "i = 1\n",
    "while i <= 10:\n",
    "    print(i)\n",
    "    i += 1\n",
    "print(\"\\nEven numbers from 1 to 20:\")\n",
    "i = 2\n",
    "while i <= 20:\n",
    "    print(i)\n",
    "    i += 2"
   ]
  },
  {
   "cell_type": "code",
   "execution_count": 4,
   "id": "012d23fd",
   "metadata": {},
   "outputs": [
    {
     "name": "stdout",
     "output_type": "stream",
     "text": [
      "78 isn't a Harshad Number\n"
     ]
    }
   ],
   "source": [
    "num = int(input(\"Enter number: \"))\n",
    "original_num = num\n",
    "digit_sum = 0\n",
    "while num > 0:\n",
    "    digit_sum += num % 10\n",
    "    num = num // 10\n",
    "if original_num % digit_sum == 0:\n",
    "    print(f\"{original_num} is Harshad Number\")\n",
    "else:\n",
    "    print(f\"{original_num} isn't a Harshad Number\")"
   ]
  }
 ],
 "metadata": {
  "kernelspec": {
   "display_name": "Python 3",
   "language": "python",
   "name": "python3"
  },
  "language_info": {
   "codemirror_mode": {
    "name": "ipython",
    "version": 3
   },
   "file_extension": ".py",
   "mimetype": "text/x-python",
   "name": "python",
   "nbconvert_exporter": "python",
   "pygments_lexer": "ipython3",
   "version": "3.13.7"
  }
 },
 "nbformat": 4,
 "nbformat_minor": 5
}
